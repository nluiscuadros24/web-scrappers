{
  "nbformat": 4,
  "nbformat_minor": 0,
  "metadata": {
    "colab": {
      "name": "scraper personal tw",
      "provenance": [],
      "authorship_tag": "ABX9TyODGptklJGU5Q8QI5BAwY1t",
      "include_colab_link": true
    },
    "kernelspec": {
      "name": "python3",
      "display_name": "Python 3"
    }
  },
  "cells": [
    {
      "cell_type": "markdown",
      "metadata": {
        "id": "view-in-github",
        "colab_type": "text"
      },
      "source": [
        "<a href=\"https://colab.research.google.com/github/nluiscuadros24/web-scrappers/blob/main/scraper_personal_tw.ipynb\" target=\"_parent\"><img src=\"https://colab.research.google.com/assets/colab-badge.svg\" alt=\"Open In Colab\"/></a>"
      ]
    },
    {
      "cell_type": "code",
      "metadata": {
        "id": "2WlVcny26-_q"
      },
      "source": [
        "import tweepy\n",
        "from tweepy import OAuthHandler\n",
        "import json"
      ],
      "execution_count": null,
      "outputs": []
    },
    {
      "cell_type": "code",
      "metadata": {
        "id": "h8VqiYl3PdA1"
      },
      "source": [
        "consumer_key = 'N1c0WJXFO6VnFAMTKKZqnLyXh'\n",
        "consumer_secret = 'Gbxc1lJj2TLWjCGxZm57bwWSj0cionOdeURNcLUfYIDtFz39sO'\n",
        "access_token = '1281331699700375557-QaKousrW9dfoi38izeRCY4gIzttPES'\n",
        "access_token_secret = 'zFN4MO41NP3W9vAZbmCe6kPFyyBGU8GGRd2cFDOj3WjJC'"
      ],
      "execution_count": null,
      "outputs": []
    },
    {
      "cell_type": "code",
      "metadata": {
        "id": "SfaBArUXI9Zc"
      },
      "source": [
        "auth = tweepy.OAuthHandler(consumer_key, consumer_secret)\n",
        "auth.set_access_token(access_token, access_token_secret)\n",
        "# con este objeto realizaremos todas las llamadas al API\n",
        "api = tweepy.API(auth,\n",
        "                 wait_on_rate_limit=True,\n",
        "                 wait_on_rate_limit_notify=True)"
      ],
      "execution_count": null,
      "outputs": []
    },
    {
      "cell_type": "code",
      "metadata": {
        "id": "Wlv-UKA0I9Tx"
      },
      "source": [
        "auth = tweepy.OAuthHandler(consumer_key, consumer_secret)\n",
        "auth.set_access_token(access_token, access_token_secret)\n",
        "api = tweepy.API(auth)"
      ],
      "execution_count": null,
      "outputs": []
    },
    {
      "cell_type": "code",
      "metadata": {
        "id": "ILTRuU_pPkmk",
        "colab": {
          "base_uri": "https://localhost:8080/"
        },
        "outputId": "9cdce91c-e64c-4c4c-c257-ec8e403721b8"
      },
      "source": [
        "pip install emoji"
      ],
      "execution_count": null,
      "outputs": [
        {
          "output_type": "stream",
          "name": "stdout",
          "text": [
            "Requirement already satisfied: emoji in /usr/local/lib/python3.7/dist-packages (1.7.0)\n"
          ]
        }
      ]
    },
    {
      "cell_type": "code",
      "metadata": {
        "id": "69LXeQYNSVbW"
      },
      "source": [
        "import csv \n",
        "import emoji"
      ],
      "execution_count": null,
      "outputs": []
    },
    {
      "cell_type": "code",
      "metadata": {
        "id": "Bq5Hg5oPpRdY"
      },
      "source": [
        "\n",
        "timeline = api.user_timeline(id=\"_AvilesAlvarez\", count=500, tweet_mode=\"extended\")\n",
        "\n",
        "with open('alejandro_aviles.csv', 'w', newline='', encoding='utf-8') as file:\n",
        "  writer = csv.writer(file)\n",
        "  writer.writerow([\"Date\", \"Day\", \"Tweet\", \"Retweets\", \"Likes\"])\n",
        "\n",
        "\n",
        "  for tweet in timeline:\n",
        "    text_tweet = tweet.full_text\n",
        "    print(text_tweet)\n",
        "    allchars = [str for str in text_tweet]\n",
        "    emoji_list = [c for c in allchars if c in emoji.UNICODE_EMOJI]\n",
        "    clean_text = ''.join([str for str in text_tweet.split() if not any(i in str for i in emoji_list)])\n",
        "    data = [tweet.created_at.date().strftime(\"%b %d %Y \"), tweet.created_at.date().strftime(\"%b %d\"), clean_text, tweet.retweet_count, tweet.favorite_count]\n",
        "    writer.writerow(data)"
      ],
      "execution_count": null,
      "outputs": []
    },
    {
      "cell_type": "code",
      "source": [
        ""
      ],
      "metadata": {
        "id": "1Ilevrhm5mE0"
      },
      "execution_count": null,
      "outputs": []
    },
    {
      "cell_type": "code",
      "source": [
        ""
      ],
      "metadata": {
        "id": "jAYdX5WJ6DxV"
      },
      "execution_count": null,
      "outputs": []
    },
    {
      "cell_type": "code",
      "source": [
        "search = api.search(q=\"alejandro aviles\", count=500, tweet_mode=\"extended\") \n",
        "\n",
        "\n",
        "with open('alejandro_aviles1_alltw.csv', 'w', newline='', encoding='utf-8') as file:\n",
        "  writer = csv.writer(file)\n",
        "  writer.writerow([\"Date\", \"Day\", \"Tweet\", \"Retweets\", \"Likes\"])\n",
        "\n",
        "\n",
        "  for tweet in search:\n",
        "    text_tweet = tweet.full_text\n",
        "    print(text_tweet)\n",
        "    allchars = [str for str in text_tweet]\n",
        "    emoji_list = [c for c in allchars if c in emoji.UNICODE_EMOJI]\n",
        "    clean_text = ''.join([str for str in text_tweet.split() if not any(i in str for i in emoji_list)])\n",
        "    data = [tweet.created_at.date().strftime(\"%b %d %Y \"), tweet.created_at.date().strftime(\"%b %d\"), clean_text, tweet.retweet_count, tweet.favorite_count]\n",
        "    writer.writerow(data)\n",
        "\n"
      ],
      "metadata": {
        "colab": {
          "base_uri": "https://localhost:8080/"
        },
        "id": "Bb-S8dchZ4IK",
        "outputId": "cae915fd-a4b9-4eb5-d191-2df42466755d"
      },
      "execution_count": null,
      "outputs": [
        {
          "output_type": "stream",
          "name": "stdout",
          "text": [
            "Aqui nuestro XI inicial para el partido de hoy vs sagrado: \n",
            "\n",
            "Portero:\n",
            "Yussef Avilés\n",
            "\n",
            "Defensas:\n",
            "@pedroxantos \n",
            "@gaboperez10 \n",
            "@AlexisMarcelin0 \n",
            "@JorgeLebron11 \n",
            "\n",
            "Mediocampo:\n",
            "@ric_xavier7 \n",
            "@NohanVilla \n",
            "Alejandro Vivoni\n",
            "\n",
            "Delanteros:\n",
            "@jsntgprz \n",
            "@el_rodz_11 \n",
            "@Eriquinho002 \n",
            "\n",
            "VAMOS IUPI!! https://t.co/UY7bG6XFc4\n",
            "RT @PollsMX_: Intención de voto Oaxaca 2022 | Encuesta de @MassiveCaller \n",
            "\n",
            "Salomón Jara: 42.8% (-1.0)\n",
            "Alejandro Avilés: 27.6% (-0.2)\n",
            "Nativi…\n",
            "En directo: Real Avilés - Palencia Cristo Atlético https://t.co/XMcBGiqcjY vía @elcomerciodigit\n",
            "En este enlace, el minuto a minuto con Alejandro L. Jambrina.\n",
            "RT @Lagarrapata_S22: Si. Y al paso que van, se va a llamar Alejandro Avilés. Guarden este tuit. @Pharmaguru1 @Satancin @chumbert1 @claudiah…\n",
            "RT @Lagarrapata_S22: Si. Y al paso que van, se va a llamar Alejandro Avilés. Guarden este tuit. @Pharmaguru1 @Satancin @chumbert1 @claudiah…\n",
            "Si. Y al paso que van, se va a llamar Alejandro Avilés. Guarden este tuit. @Pharmaguru1 @Satancin @chumbert1 @claudiahlc79 @LaVilChismosa_ @PedroRasga @alex_vaskez @LocutorAlejo @alvarocombativ1 @benmorinmx @mairon__oliveir @albaOax @NADIASANABIA @jaqueline_oax @escaparate_oax https://t.co/wtNtyVAfMQ\n",
            "RT @EjeCentral: #LaTrastienda | En el sector político y jurídico de Oaxaca generó suspicacias el que Alejandro Avilés Álvarez, abanderado d…\n",
            "#LaTrastienda | En el sector político y jurídico de Oaxaca generó suspicacias el que Alejandro Avilés Álvarez, abanderado del PRI a la gubernatura, se reuniera con integrantes y líderes del Colegio de Notarios de la entidad, y funcionarios públicos - https://t.co/hdquZpDnjB\n",
            "RT @AnaBolena33: \"La vida es tan incierta, que la felicidad debe aprovecharse en el momento en que se presenta.\"\n",
            "(Alejandro Dumas)\n",
            "\n",
            "© Kat I…\n",
            "Impresionante el crecimiento de Alejandro Avilés encuesta tras encuesta / #Oaxaca #AsíSomosOax @_AvilesAlvarez https://t.co/AriZjxqm5g\n",
            "#LaTrastienda | En el sector político y jurídico de Oaxaca generó suspicacias el que Alejandro Avilés Álvarez, abanderado del PRI a la gubernatura, se reuniera con integrantes y líderes del Colegio de Notarios de la entidad, y funcionarios públicos - https://t.co/hdquZpUYb9\n",
            "RT @SimonTempl1: @alitomorenoc Se rumora q te vas a presentar como candidato a la presidencia pal 24, no sera q ya vendiste lo q queda del…\n",
            "#LaTrastienda | En el sector político y jurídico de Oaxaca generó suspicacias el que Alejandro Avilés Álvarez, abanderado del PRI a la gubernatura, se reuniera con integrantes y líderes del Colegio de Notarios de la entidad, y funcionarios públicos - https://t.co/hdquZpDnjB\n",
            "@alitomorenoc Se rumora q te vas a presentar como candidato a la presidencia pal 24, no sera q ya vendiste lo q queda del pri con el.kks? Xq eres un mercenario vividor de la política. Estas hundiendo al PRI en oaxaca pusiste a alejandro avilés otro inche rata como.tu ogt. Cuanto te dio morena\n",
            "RT @PollsMX_: Intención de voto Oaxaca 2022 | Encuesta de @MassiveCaller \n",
            "\n",
            "Salomón Jara: 42.8% (-1.0)\n",
            "Alejandro Avilés: 27.6% (-0.2)\n",
            "Nativi…\n",
            "RT @PollsMX_: Intención de voto Oaxaca 2022 | Encuesta de @MassiveCaller \n",
            "\n",
            "Salomón Jara: 42.8% (-1.0)\n",
            "Alejandro Avilés: 27.6% (-0.2)\n",
            "Nativi…\n",
            "RT @PollsMX_: Intención de voto Oaxaca 2022 | Encuesta de @MassiveCaller \n",
            "\n",
            "Salomón Jara: 42.8% (-1.0)\n",
            "Alejandro Avilés: 27.6% (-0.2)\n",
            "Nativi…\n",
            "RT @PollsMX_: Intención de voto Oaxaca 2022 | Encuesta de @MassiveCaller \n",
            "\n",
            "Salomón Jara: 42.8% (-1.0)\n",
            "Alejandro Avilés: 27.6% (-0.2)\n",
            "Nativi…\n",
            "RT @PollsMX_: Intención de voto Oaxaca 2022 | Encuesta de @MassiveCaller \n",
            "\n",
            "Salomón Jara: 42.8% (-1.0)\n",
            "Alejandro Avilés: 27.6% (-0.2)\n",
            "Nativi…\n",
            "RT @PollsMX_: Intención de voto Oaxaca 2022 | Encuesta de @MassiveCaller \n",
            "\n",
            "Salomón Jara: 42.8% (-1.0)\n",
            "Alejandro Avilés: 27.6% (-0.2)\n",
            "Nativi…\n",
            "RT @PollsMX_: Intención de voto Oaxaca 2022 | Encuesta de @MassiveCaller \n",
            "\n",
            "Salomón Jara: 42.8% (-1.0)\n",
            "Alejandro Avilés: 27.6% (-0.2)\n",
            "Nativi…\n",
            "RT @PollsMX_: Intención de voto Oaxaca 2022 | Encuesta de @MassiveCaller \n",
            "\n",
            "Salomón Jara: 42.8% (-1.0)\n",
            "Alejandro Avilés: 27.6% (-0.2)\n",
            "Nativi…\n",
            "RT @PollsMX_: Intención de voto Oaxaca 2022 | Encuesta de @MassiveCaller \n",
            "\n",
            "Salomón Jara: 42.8% (-1.0)\n",
            "Alejandro Avilés: 27.6% (-0.2)\n",
            "Nativi…\n",
            "RT @PollsMX_: Intención de voto Oaxaca 2022 | Encuesta de @MassiveCaller \n",
            "\n",
            "Salomón Jara: 42.8% (-1.0)\n",
            "Alejandro Avilés: 27.6% (-0.2)\n",
            "Nativi…\n",
            "RT @bigsloan32: Final. @TheSwaic Conference Championship \n",
            "\n",
            "@PSATAcademy 66\n",
            "@TACA_Basketball 62\n",
            "\n",
            "Freshman Alejandro Aviles finished with a g…\n",
            "RT @bigsloan32: Final. @TheSwaic Conference Championship \n",
            "\n",
            "@PSATAcademy 66\n",
            "@TACA_Basketball 62\n",
            "\n",
            "Freshman Alejandro Aviles finished with a g…\n",
            "Final. @TheSwaic Conference Championship \n",
            "\n",
            "@PSATAcademy 66\n",
            "@TACA_Basketball 62\n",
            "\n",
            "Freshman Alejandro Aviles finished with a game high 21 points and grabbed 7 boards. \n",
            "\n",
            "‘23 Jonathan Ogunfuye scored 12 points in the victory. https://t.co/CJWD6ln0fq\n",
            "RT @PollsMX_: Intención de voto Oaxaca 2022 | Encuesta de @MassiveCaller \n",
            "\n",
            "Salomón Jara: 42.8% (-1.0)\n",
            "Alejandro Avilés: 27.6% (-0.2)\n",
            "Nativi…\n",
            "Intención de voto Oaxaca 2022 | Encuesta de @MassiveCaller \n",
            "\n",
            "Salomón Jara: 42.8% (-1.0)\n",
            "Alejandro Avilés: 27.6% (-0.2)\n",
            "Natividad Díaz: 6.0% (+1.6)\n",
            "Alejandra García Morlán: 4.6% (-0.9) https://t.co/2KoM5ndW29\n",
            "RT @JuanJosSaldaa3: Los triunfadores en el torneo de ajedrez de la UNISIERRA con el Rector Avilés Miranda y un Maestro de clase mundial, el…\n",
            ".@_AvilesAlvarez condena enérgicamente actos vandálicos contra el @IEEPCO\n",
            "\n",
            "El precandidato sostuvo que este tipo de hechos se trata de un atentado contra la democracia, dado el proceso electoral en marcha. https://t.co/BslaqOXIvd https://t.co/eewAFj87ap\n",
            "RT @MaraRam49048881: El candidato del PRI Alejandro Avilés, se reúne con el colegio de Notarios de Oaxaca, destaca Jorge Gómez Merlo, cabez…\n",
            "RT @MiguelH99927488: 🗞 Oaxaca || Si hoy fuera el día para elegir al próximo gobernador ¿Por quién votarías?\n",
            "• Ale Morlan\n",
            "(@alemorlanmx)\n",
            "• S…\n",
            "RT @MiguelH99927488: 🗞 Oaxaca || Si hoy fuera el día para elegir al próximo gobernador ¿Por quién votarías?\n",
            "• Ale Morlan\n",
            "(@alemorlanmx)\n",
            "• S…\n",
            "RT @JuanJosSaldaa3: Los triunfadores en el torneo de ajedrez de la UNISIERRA con el Rector Avilés Miranda y un Maestro de clase mundial, el…\n",
            "Los triunfadores en el torneo de ajedrez de la UNISIERRA con el Rector Avilés Miranda y un Maestro de clase mundial, el Profesor Alejandro Vega. https://t.co/l9aEaPMmj6\n",
            "RT @MaraRam49048881: El candidato del PRI Alejandro Avilés, se reúne con el colegio de Notarios de Oaxaca, destaca Jorge Gómez Merlo, cabez…\n",
            "RT @MaraRam49048881: El candidato del PRI Alejandro Avilés, se reúne con el colegio de Notarios de Oaxaca, destaca Jorge Gómez Merlo, cabez…\n",
            "Condena Alejandro Avilés (@_AvilesAlvarez) enérgicamente los actos vandálicos contra oficinas del @IEEPCO https://t.co/HIa9iVqcx8 https://t.co/OqMsdtquOF\n",
            "RT @felipejaviercg: Alejandro Avilés condena enérgicamente los actos vandálicos contra oficinas del IEEPCO https://t.co/BzLgG6cQrs\n",
            "@_Aviles…\n",
            "El candidato del PRI Alejandro Avilés, se reúne con el colegio de Notarios de Oaxaca, destaca Jorge Gómez Merlo, cabeza de un grupo delictivo que se apodera de propiedades en el Centro de Oaxaca, convertido en Notario por @alejandromurat Avilés protege lacras @_AvilesAlvarez https://t.co/8dVokfsWlA\n",
            "Alejandro Avilés condena enérgicamente los actos vandálicos contra oficinas del @IEEPCO https://t.co/3NyfmZXlKo\n",
            "RT @OaxacaNewsMedia: Condena @_AvilesAlvarez actos vandálicos contra oficinas del @IEEPCO https://t.co/7ft5XQ4O2E #Oaxaca https://t.co/Vbl6…\n",
            "Alejandro Avilés condena enérgicamente los actos vandálicos contra oficinas del IEEPCO https://t.co/H5JeB6j3Pb\n",
            "Condena @_AvilesAlvarez actos vandálicos contra oficinas del @IEEPCO https://t.co/7ft5XQ4O2E #Oaxaca https://t.co/Vbl6pBI3Dw\n",
            "RT @vozdelsur: Alejandro Avilés condena enérgicamente los actos vandálicos contra oficinas del IEEPCO https://t.co/BGQTrNPixB\n",
            "@_AvilesAlvar…\n",
            "RT @felipejaviercg: Alejandro Avilés condena enérgicamente los actos vandálicos contra oficinas del IEEPCO https://t.co/BzLgG6cQrs\n",
            "@_Aviles…\n",
            "RT @vozdelsur: Alejandro Avilés condena enérgicamente los actos vandálicos contra oficinas del IEEPCO https://t.co/BGQTrNPixB\n",
            "@_AvilesAlvar…\n",
            "RT @felipejaviercg: Alejandro Avilés condena enérgicamente los actos vandálicos contra oficinas del IEEPCO https://t.co/BzLgG6cQrs\n",
            "@_Aviles…\n",
            "RT @vozdelsur: Alejandro Avilés condena enérgicamente los actos vandálicos contra oficinas del IEEPCO https://t.co/BGQTrNPixB\n",
            "@_AvilesAlvar…\n",
            "Alejandro Avilés condena enérgicamente los actos vandálicos contra oficinas del IEEPCO https://t.co/hrZW5qn3Pb #Oaxaca #twitteroax\n",
            "Alejandro Avilés condena enérgicamente los actos vandálicos contra oficinas del IEEPCO https://t.co/BzLgG6cQrs\n",
            "@_AvilesAlvarez\n",
            "@JavierVillacana\n",
            "@tonysreyes\n",
            "@hiramgasca\n",
            "@PRIOaxaca_\n",
            "@alitomorenoc https://t.co/HIZi2GWtE7 https://t.co/kfHl8m3Pxh\n",
            "Alejandro Avilés condena enérgicamente los actos vandálicos contra oficinas del IEEPCO https://t.co/BGQTrNPixB\n",
            "@_AvilesAlvarez\n",
            "@JavierVillacana\n",
            "@tonysreyes\n",
            "@hiramgasca\n",
            "@PRIOaxaca_\n",
            "@alitomorenoc https://t.co/uhqHAx8hml\n",
            "RT @FutbolUPR: tarde pero seguro, aquí el XI incial del partido de hoy vs. UAGM\n",
            "\n",
            "Portero:\n",
            "Yussef Avilés\n",
            "\n",
            "Defensas:\n",
            "@pedroe2001 \n",
            "@AlexisMarc…\n",
            "RT @FutbolUPR: tarde pero seguro, aquí el XI incial del partido de hoy vs. UAGM\n",
            "\n",
            "Portero:\n",
            "Yussef Avilés\n",
            "\n",
            "Defensas:\n",
            "@pedroe2001 \n",
            "@AlexisMarc…\n",
            "RT @FutbolUPR: tarde pero seguro, aquí el XI incial del partido de hoy vs. UAGM\n",
            "\n",
            "Portero:\n",
            "Yussef Avilés\n",
            "\n",
            "Defensas:\n",
            "@pedroe2001 \n",
            "@AlexisMarc…\n",
            "RT @FutbolUPR: tarde pero seguro, aquí el XI incial del partido de hoy vs. UAGM\n",
            "\n",
            "Portero:\n",
            "Yussef Avilés\n",
            "\n",
            "Defensas:\n",
            "@pedroe2001 \n",
            "@AlexisMarc…\n",
            "tarde pero seguro, aquí el XI incial del partido de hoy vs. UAGM\n",
            "\n",
            "Portero:\n",
            "Yussef Avilés\n",
            "\n",
            "Defensas:\n",
            "@pedroe2001 \n",
            "@AlexisMarcelin0 \n",
            "@JorgeLebron11 \n",
            "@gaboperez10 \n",
            "\n",
            "Mediocampo:\n",
            "@ric_xavier7 \n",
            "@NohanVilla \n",
            "Alejandro Vivoni\n",
            "\n",
            "Delanteros:\n",
            "@jsntgprz \n",
            "@el_rodz_11 \n",
            "@Eriquinho002 https://t.co/TnRINQz8Rw\n",
            "RT @laprimerisima: El General de Brigada Spiro José Bassi Aguilar, entregó el cargo de jefe de la Fuerza Aérea al Coronel Piloto Aviador AL…\n"
          ]
        }
      ]
    },
    {
      "cell_type": "code",
      "source": [
        ""
      ],
      "metadata": {
        "id": "6MKDrcPk5PkH"
      },
      "execution_count": null,
      "outputs": []
    },
    {
      "cell_type": "code",
      "metadata": {
        "id": "PoUluInbpRYX",
        "colab": {
          "base_uri": "https://localhost:8080/",
          "height": 419
        },
        "outputId": "82147ad1-0b59-4377-ad84-63d026f341ac"
      },
      "source": [
        "import pandas as pd\n",
        "\n",
        "data_2 = pd.read_csv(\"test2.csv\")\n",
        "data_2\n"
      ],
      "execution_count": null,
      "outputs": [
        {
          "output_type": "execute_result",
          "data": {
            "text/html": [
              "<div>\n",
              "<style scoped>\n",
              "    .dataframe tbody tr th:only-of-type {\n",
              "        vertical-align: middle;\n",
              "    }\n",
              "\n",
              "    .dataframe tbody tr th {\n",
              "        vertical-align: top;\n",
              "    }\n",
              "\n",
              "    .dataframe thead th {\n",
              "        text-align: right;\n",
              "    }\n",
              "</style>\n",
              "<table border=\"1\" class=\"dataframe\">\n",
              "  <thead>\n",
              "    <tr style=\"text-align: right;\">\n",
              "      <th></th>\n",
              "      <th>Date</th>\n",
              "      <th>Day</th>\n",
              "      <th>Tweet</th>\n",
              "      <th>Retweets</th>\n",
              "      <th>Likes</th>\n",
              "    </tr>\n",
              "  </thead>\n",
              "  <tbody>\n",
              "    <tr>\n",
              "      <th>0</th>\n",
              "      <td>Sep 05 2020</td>\n",
              "      <td>Sep 05</td>\n",
              "      <td>https://t.co/QrgXNPYBhy</td>\n",
              "      <td>0</td>\n",
              "      <td>0</td>\n",
              "    </tr>\n",
              "    <tr>\n",
              "      <th>1</th>\n",
              "      <td>Aug 29 2020</td>\n",
              "      <td>Aug 29</td>\n",
              "      <td>https://t.co/K5vlIP0mrS</td>\n",
              "      <td>0</td>\n",
              "      <td>0</td>\n",
              "    </tr>\n",
              "    <tr>\n",
              "      <th>2</th>\n",
              "      <td>Aug 29 2020</td>\n",
              "      <td>Aug 29</td>\n",
              "      <td>RT@JLo:RIP#chadwickbosemanhttps://t.co/dyBsgBuU47</td>\n",
              "      <td>2634</td>\n",
              "      <td>0</td>\n",
              "    </tr>\n",
              "    <tr>\n",
              "      <th>3</th>\n",
              "      <td>May 21 2020</td>\n",
              "      <td>May 21</td>\n",
              "      <td>@_Holograma_Lagenteesestúpida</td>\n",
              "      <td>0</td>\n",
              "      <td>0</td>\n",
              "    </tr>\n",
              "    <tr>\n",
              "      <th>4</th>\n",
              "      <td>May 03 2020</td>\n",
              "      <td>May 03</td>\n",
              "      <td>RT@ConsejeroUnico:⠀⠀\"Elbesoenlafrente,tieneuns...</td>\n",
              "      <td>1331</td>\n",
              "      <td>0</td>\n",
              "    </tr>\n",
              "    <tr>\n",
              "      <th>...</th>\n",
              "      <td>...</td>\n",
              "      <td>...</td>\n",
              "      <td>...</td>\n",
              "      <td>...</td>\n",
              "      <td>...</td>\n",
              "    </tr>\n",
              "    <tr>\n",
              "      <th>65</th>\n",
              "      <td>Jul 15 2016</td>\n",
              "      <td>Jul 15</td>\n",
              "      <td>RT@EcuavisaInforma:Conductordelcamiónqueatrope...</td>\n",
              "      <td>4</td>\n",
              "      <td>0</td>\n",
              "    </tr>\n",
              "    <tr>\n",
              "      <th>66</th>\n",
              "      <td>Jul 15 2016</td>\n",
              "      <td>Jul 15</td>\n",
              "      <td>RT@CSEmelec:EstedomingoDOBLETEENELALBERTOSPENC...</td>\n",
              "      <td>156</td>\n",
              "      <td>0</td>\n",
              "    </tr>\n",
              "    <tr>\n",
              "      <th>67</th>\n",
              "      <td>Jul 10 2016</td>\n",
              "      <td>Jul 10</td>\n",
              "      <td>RT@CSEmelec:FernandoGiménez@vikingogimenezestá...</td>\n",
              "      <td>287</td>\n",
              "      <td>0</td>\n",
              "    </tr>\n",
              "    <tr>\n",
              "      <th>68</th>\n",
              "      <td>Jul 09 2016</td>\n",
              "      <td>Jul 09</td>\n",
              "      <td>RT@DulceMaria:Ysi...Yavecesaunquenodigasnada.....</td>\n",
              "      <td>1998</td>\n",
              "      <td>0</td>\n",
              "    </tr>\n",
              "    <tr>\n",
              "      <th>69</th>\n",
              "      <td>Jun 30 2016</td>\n",
              "      <td>Jun 30</td>\n",
              "      <td>RT@EcuavisaInforma:Reportandosvigilantesmuerto...</td>\n",
              "      <td>126</td>\n",
              "      <td>0</td>\n",
              "    </tr>\n",
              "  </tbody>\n",
              "</table>\n",
              "<p>70 rows × 5 columns</p>\n",
              "</div>"
            ],
            "text/plain": [
              "            Date     Day  ... Retweets  Likes\n",
              "0   Sep 05 2020   Sep 05  ...        0      0\n",
              "1   Aug 29 2020   Aug 29  ...        0      0\n",
              "2   Aug 29 2020   Aug 29  ...     2634      0\n",
              "3   May 21 2020   May 21  ...        0      0\n",
              "4   May 03 2020   May 03  ...     1331      0\n",
              "..           ...     ...  ...      ...    ...\n",
              "65  Jul 15 2016   Jul 15  ...        4      0\n",
              "66  Jul 15 2016   Jul 15  ...      156      0\n",
              "67  Jul 10 2016   Jul 10  ...      287      0\n",
              "68  Jul 09 2016   Jul 09  ...     1998      0\n",
              "69  Jun 30 2016   Jun 30  ...      126      0\n",
              "\n",
              "[70 rows x 5 columns]"
            ]
          },
          "metadata": {
            "tags": []
          },
          "execution_count": 9
        }
      ]
    },
    {
      "cell_type": "code",
      "metadata": {
        "id": "XDG5Tl19_c7V",
        "outputId": "4c1ceb37-61de-49c5-a7ae-150c18a1cae4",
        "colab": {
          "base_uri": "https://localhost:8080/"
        }
      },
      "source": [
        "import os\n",
        "import sys\n",
        "print(os.path.dirname(sys.executable))"
      ],
      "execution_count": null,
      "outputs": [
        {
          "output_type": "stream",
          "name": "stdout",
          "text": [
            "/usr/bin\n"
          ]
        }
      ]
    },
    {
      "cell_type": "code",
      "metadata": {
        "id": "x4lwAO9WeYDq"
      },
      "source": [
        "searched_tweets = self.api.search(query= \"empresario\", tweet_mode=\"extended\")\n",
        "\n",
        "with open('test2.csv', 'w', newline='', encoding='utf-8') as file:\n",
        "  writer = csv.writer(file)\n",
        "  writer.writerow([\"Date\", \"Day\", \"Tweet\", \"Retweets\", \"Likes\"])\n",
        "\n",
        "\n",
        "  for tweet in busquedad:\n",
        "    text_tweet = tweet.full_text\n",
        "    print(text_tweet)\n",
        "    allchars = [str for str in text_tweet]\n",
        "    emoji_list = [c for c in allchars if c in emoji.UNICODE_EMOJI]\n",
        "    clean_text = ''.join([str for str in text_tweet.split() if not any(i in str for i in emoji_list)])\n",
        "    data = [tweet.created_at.date().strftime(\"%b %d %Y \"), tweet.created_at.date().strftime(\"%b %d\"), clean_text, tweet.retweet_count, tweet.favorite_count]\n",
        "    writer.writerow(data)"
      ],
      "execution_count": null,
      "outputs": []
    },
    {
      "cell_type": "code",
      "metadata": {
        "id": "ATCY52ebeXxB"
      },
      "source": [
        "for tweet in tweepy.Cursor(api.search, q=\"rusia 2018\", tweet_mode=\"extended\").items(5):\n",
        "    print json.dumps(tweet._json, indent=4)"
      ],
      "execution_count": null,
      "outputs": []
    }
  ]
}